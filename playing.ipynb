{
 "cells": [
  {
   "cell_type": "code",
   "execution_count": 2,
   "metadata": {},
   "outputs": [],
   "source": [
    "import pickle"
   ]
  },
  {
   "cell_type": "code",
   "execution_count": null,
   "metadata": {},
   "outputs": [],
   "source": [
    "# Step 1\n",
    "\n",
    " \n",
    "# Step 2\n",
    "with open('config.dictionary', 'rb') as config_dictionary_file:\n",
    " \n",
    "    # Step 3\n",
    "    config_dictionary = pickle.load(config_dictionary_file)\n",
    " \n",
    "    # After config_dictionary is read from file\n",
    "    print(config_dictionary)"
   ]
  },
  {
   "cell_type": "code",
   "execution_count": 3,
   "metadata": {},
   "outputs": [],
   "source": [
    "with open('list_visited_states', 'rb') as pickle_vis_states:\n",
    "\n",
    "    # Step 3\n",
    "    visited_states= pickle.load(pickle_vis_states)\n",
    "\n",
    "\n",
    "with open('list_queue', 'rb') as pickle_queue:\n",
    "\n",
    "    # Step 3\n",
    "    queue = pickle.load(pickle_queue)\n"
   ]
  },
  {
   "cell_type": "code",
   "execution_count": 5,
   "metadata": {},
   "outputs": [
    {
     "data": {
      "text/plain": [
       "4000"
      ]
     },
     "execution_count": 5,
     "metadata": {},
     "output_type": "execute_result"
    }
   ],
   "source": [
    "len(visited_states)"
   ]
  },
  {
   "cell_type": "code",
   "execution_count": 6,
   "metadata": {},
   "outputs": [
    {
     "data": {
      "text/plain": [
       "201609"
      ]
     },
     "execution_count": 6,
     "metadata": {},
     "output_type": "execute_result"
    }
   ],
   "source": [
    "len(queue)"
   ]
  },
  {
   "cell_type": "code",
   "execution_count": 16,
   "metadata": {},
   "outputs": [
    {
     "data": {
      "text/plain": [
       "(10, (23, 2, 35, 8))"
      ]
     },
     "execution_count": 16,
     "metadata": {},
     "output_type": "execute_result"
    }
   ],
   "source": [
    "elem1 = queue[len(queue)-10]\n",
    "elem1"
   ]
  },
  {
   "cell_type": "code",
   "execution_count": 12,
   "metadata": {},
   "outputs": [
    {
     "name": "stdout",
     "output_type": "stream",
     "text": [
      "3.87 ms ± 381 µs per loop (mean ± std. dev. of 7 runs, 100 loops each)\n"
     ]
    }
   ],
   "source": [
    "%%timeit -n 100\n",
    "elem1 in queue"
   ]
  },
  {
   "cell_type": "code",
   "execution_count": 13,
   "metadata": {},
   "outputs": [],
   "source": [
    "set_queue = set(queue)"
   ]
  },
  {
   "cell_type": "code",
   "execution_count": 14,
   "metadata": {},
   "outputs": [
    {
     "data": {
      "text/plain": [
       "3853"
      ]
     },
     "execution_count": 14,
     "metadata": {},
     "output_type": "execute_result"
    }
   ],
   "source": [
    "len(set_queue)"
   ]
  },
  {
   "cell_type": "code",
   "execution_count": 15,
   "metadata": {},
   "outputs": [
    {
     "name": "stdout",
     "output_type": "stream",
     "text": [
      "120 ns ± 5.64 ns per loop (mean ± std. dev. of 7 runs, 100 loops each)\n"
     ]
    }
   ],
   "source": [
    "%%timeit -n 100\n",
    "elem1 in set_queue"
   ]
  },
  {
   "cell_type": "code",
   "execution_count": 42,
   "metadata": {},
   "outputs": [],
   "source": [
    "import random\n",
    "l = [(random.randrange(0, 1000000), random.randrange(0, 1000000), random.randrange(0, 1000000)) for i in range(1000000)]\n"
   ]
  },
  {
   "cell_type": "code",
   "execution_count": 43,
   "metadata": {},
   "outputs": [
    {
     "data": {
      "text/plain": [
       "1000000"
      ]
     },
     "execution_count": 43,
     "metadata": {},
     "output_type": "execute_result"
    }
   ],
   "source": [
    "len(l)"
   ]
  },
  {
   "cell_type": "code",
   "execution_count": 44,
   "metadata": {},
   "outputs": [],
   "source": [
    "elem1_l = l[len(l) -12]"
   ]
  },
  {
   "cell_type": "code",
   "execution_count": 45,
   "metadata": {},
   "outputs": [
    {
     "name": "stdout",
     "output_type": "stream",
     "text": [
      "39.2 ms ± 566 µs per loop (mean ± std. dev. of 7 runs, 100 loops each)\n"
     ]
    }
   ],
   "source": [
    "%%timeit -n 100\n",
    "elem1_l in l"
   ]
  },
  {
   "cell_type": "code",
   "execution_count": 46,
   "metadata": {},
   "outputs": [],
   "source": [
    "set_l = set(l)"
   ]
  },
  {
   "cell_type": "code",
   "execution_count": 47,
   "metadata": {},
   "outputs": [
    {
     "name": "stdout",
     "output_type": "stream",
     "text": [
      "84.5 ns ± 4.14 ns per loop (mean ± std. dev. of 7 runs, 100 loops each)\n"
     ]
    }
   ],
   "source": [
    "%%timeit -n 100\n",
    "elem1_l in set_l"
   ]
  },
  {
   "cell_type": "code",
   "execution_count": 48,
   "metadata": {},
   "outputs": [
    {
     "data": {
      "text/plain": [
       "1000000"
      ]
     },
     "execution_count": 48,
     "metadata": {},
     "output_type": "execute_result"
    }
   ],
   "source": [
    "len(set_l)"
   ]
  },
  {
   "cell_type": "code",
   "execution_count": null,
   "metadata": {},
   "outputs": [],
   "source": []
  },
  {
   "cell_type": "code",
   "execution_count": null,
   "metadata": {},
   "outputs": [],
   "source": []
  },
  {
   "cell_type": "code",
   "execution_count": 71,
   "metadata": {},
   "outputs": [
    {
     "name": "stdout",
     "output_type": "stream",
     "text": [
      "The slowest run took 62.32 times longer than the fastest. This could mean that an intermediate result is being cached.\n",
      "624 ns ± 1.34 µs per loop (mean ± std. dev. of 7 runs, 100 loops each)\n"
     ]
    }
   ],
   "source": [
    "%%timeit -n 100\n",
    "l.append((30,20,1))"
   ]
  },
  {
   "cell_type": "code",
   "execution_count": 46,
   "metadata": {},
   "outputs": [],
   "source": [
    "set_l = set(l)"
   ]
  },
  {
   "cell_type": "code",
   "execution_count": 73,
   "metadata": {},
   "outputs": [
    {
     "name": "stdout",
     "output_type": "stream",
     "text": [
      "159 ns ± 20.4 ns per loop (mean ± std. dev. of 7 runs, 100 loops each)\n"
     ]
    }
   ],
   "source": [
    "%%timeit -n 100\n",
    "set_l.add((30,20,1))"
   ]
  },
  {
   "cell_type": "code",
   "execution_count": null,
   "metadata": {},
   "outputs": [],
   "source": []
  },
  {
   "cell_type": "code",
   "execution_count": 68,
   "metadata": {},
   "outputs": [],
   "source": [
    "glasses_capacity = (31, 33, 35, 37)\n",
    "desired_ = (0, 3, 5, 22)"
   ]
  },
  {
   "cell_type": "code",
   "execution_count": 59,
   "metadata": {},
   "outputs": [],
   "source": [
    "visited_states = set()"
   ]
  },
  {
   "cell_type": "code",
   "execution_count": 62,
   "metadata": {},
   "outputs": [
    {
     "data": {
      "text/plain": [
       "0"
      ]
     },
     "execution_count": 62,
     "metadata": {},
     "output_type": "execute_result"
    }
   ],
   "source": [
    "len(visited_states)"
   ]
  },
  {
   "cell_type": "code",
   "execution_count": 57,
   "metadata": {},
   "outputs": [],
   "source": [
    "state_current = (10, (0, 10, 30, 29))"
   ]
  },
  {
   "cell_type": "code",
   "execution_count": 52,
   "metadata": {},
   "outputs": [],
   "source": [
    "def new_tuple(tuple_, i, change):\n",
    "    tpl = tuple_[:i] + (change,) + tuple_[i+1:]\n",
    "    return tpl"
   ]
  },
  {
   "cell_type": "code",
   "execution_count": 54,
   "metadata": {},
   "outputs": [],
   "source": [
    "def print_content_glasses(state_filled, desired_level, glasses_capacity):\n",
    "    return_string = \"\"\n",
    "    ch = 'A'\n",
    "\n",
    "\n",
    "    for i in range(len(glasses_capacity)):\n",
    "        return_string += ch + \": \" + str(state_filled[i]) + \"/\" + str(desired_level[i]) + \"/\" + str(glasses_capacity[i]) + \"  \"\n",
    "        ch= chr(ord(ch) + 1)\n",
    "\n",
    "    print(return_string)"
   ]
  },
  {
   "cell_type": "code",
   "execution_count": 69,
   "metadata": {},
   "outputs": [
    {
     "data": {
      "text/plain": [
       "(31, 33, 35, 37)"
      ]
     },
     "execution_count": 69,
     "metadata": {},
     "output_type": "execute_result"
    }
   ],
   "source": [
    "glasses_capacity"
   ]
  },
  {
   "cell_type": "code",
   "execution_count": 70,
   "metadata": {},
   "outputs": [
    {
     "name": "stdout",
     "output_type": "stream",
     "text": [
      "loop  0\n",
      "analyzing new state:  (11, (31, 10, 30, 29))\n",
      "fill whole glass. adding state to the queue:  (11, (31, 10, 30, 29)) level:  11\n",
      "loop  1\n",
      "analyzing new state:  (11, (0, 33, 30, 29))\n",
      "fill whole glass. adding state to the queue:  (11, (0, 33, 30, 29)) level:  11\n",
      "analyzing new state:  (11, (0, 0, 30, 29))\n",
      "empty glass. adding state to the queue:  (11, (0, 0, 30, 29)) level:  11\n",
      "analyzing new state:  (11, (10, 0, 30, 29))\n",
      "pouring from glass  1 to glass  0 . adding state to the queue:  (11, (10, 0, 30, 29))\n",
      "analyzing new state:  (11, (0, 5, 35, 29))\n",
      "pouring from glass  1 to glass  2 . adding state to the queue:  (11, (0, 5, 35, 29))\n",
      "analyzing new state:  (11, (0, 2, 30, 37))\n",
      "pouring from glass  1 to glass  3 . adding state to the queue:  (11, (0, 2, 30, 37))\n",
      "loop  2\n",
      "analyzing new state:  (11, (0, 10, 35, 29))\n",
      "fill whole glass. adding state to the queue:  (11, (0, 10, 35, 29)) level:  11\n",
      "analyzing new state:  (11, (0, 10, 0, 29))\n",
      "empty glass. adding state to the queue:  (11, (0, 10, 0, 29)) level:  11\n",
      "analyzing new state:  (11, (30, 10, 0, 29))\n",
      "pouring from glass  2 to glass  0 . adding state to the queue:  (11, (30, 10, 0, 29))\n",
      "analyzing new state:  (11, (0, 33, 7, 29))\n",
      "pouring from glass  2 to glass  1 . adding state to the queue:  (11, (0, 33, 7, 29))\n",
      "analyzing new state:  (11, (0, 10, 22, 37))\n",
      "pouring from glass  2 to glass  3 . adding state to the queue:  (11, (0, 10, 22, 37))\n",
      "loop  3\n",
      "analyzing new state:  (11, (0, 10, 30, 37))\n",
      "fill whole glass. adding state to the queue:  (11, (0, 10, 30, 37)) level:  11\n",
      "analyzing new state:  (11, (0, 10, 30, 0))\n",
      "empty glass. adding state to the queue:  (11, (0, 10, 30, 0)) level:  11\n",
      "analyzing new state:  (11, (29, 10, 30, 0))\n",
      "pouring from glass  3 to glass  0 . adding state to the queue:  (11, (29, 10, 30, 0))\n",
      "analyzing new state:  (11, (0, 33, 30, 6))\n",
      "pouring from glass  3 to glass  1 . adding state to the queue:  (11, (0, 33, 30, 6))\n",
      "analyzing new state:  (11, (0, 10, 35, 24))\n",
      "pouring from glass  3 to glass  2 . adding state to the queue:  (11, (0, 10, 35, 24))\n",
      "ended\n"
     ]
    }
   ],
   "source": [
    "for i in range(len(glasses_capacity)):\n",
    "    print(\"loop \", i)\n",
    "    # pour glass full\n",
    "    if state_current[1][i] < glasses_capacity[i]:\n",
    "        # print(state_current[i], glasses_capacity[i])\n",
    "\n",
    "        # state_filled_copy = new_tuple.copy(state_filled)\n",
    "        capacity = glasses_capacity[i]\n",
    "        new_state = (state_current[0]+1, new_tuple(state_current[1], i, capacity))\n",
    "        # print(\"new state\", new_state)\n",
    "        # state_filled_copy[i] = glasses_capacity[i]\n",
    "        print(\"analyzing new state: \", new_state)\n",
    "        if new_state[1] not in visited_states:\n",
    "            queue.append(new_state)\n",
    "            print(\"fill whole glass. adding state to the queue: \", new_state, \"level: \", new_state[0])\n",
    "\n",
    "    # empty glass\n",
    "    if state_current[1][i] > 0:\n",
    "        # state_filled_copy = list.copy(state_filled)\n",
    "        new_state = (state_current[0]+1, new_tuple(state_current[1], i, 0))\n",
    "        # print(new_state)\n",
    "        # state_filled_copy[i] = 0\n",
    "        print(\"analyzing new state: \", new_state)\n",
    "        if new_state[1] not in visited_states:\n",
    "            queue.append(new_state)\n",
    "            print(\"empty glass. adding state to the queue: \", new_state, \"level: \", new_state[0])\n",
    "\n",
    "    # pour from one glass to another\n",
    "    if state_current[1][i] > 0:\n",
    "\n",
    "        other_glasses = list(range(len(glasses_capacity)))\n",
    "        other_glasses.remove(i)\n",
    "        for j in other_glasses:\n",
    "            if state_current[1][j] < glasses_capacity[j]:\n",
    "                # print(state_current[i], glasses_capacity[i])\n",
    "\n",
    "                # state_filled_copy = new_tuple.copy(state_filled)\n",
    "                difference_newglass = glasses_capacity[j] - state_current[1][j]\n",
    "                difference = min(state_current[1][i], difference_newglass)\n",
    "                # print(\"difference\", difference)\n",
    "\n",
    "                new_state = (state_current[0]+1, new_tuple(state_current[1], i, state_current[1][i]-difference))\n",
    "                # print(\"pouring out \", new_state)\n",
    "                new_state = (new_state[0], new_tuple(new_state[1], j, state_current[1][j]+difference))\n",
    "                print(\"analyzing new state: \", new_state)\n",
    "                # print(\"pouring in \", new_state)\n",
    "                # print(\"new state\", new_state)\n",
    "                # state_filled_copy[i] = glasses_capacity[i]\n",
    "\n",
    "                if new_state[1] not in visited_states:\n",
    "                    queue.append(new_state)\n",
    "                    print(\"pouring from glass \", i, \"to glass \", j, \". adding state to the queue: \", new_state)\n",
    "\n",
    "print(\"ended\")"
   ]
  },
  {
   "cell_type": "code",
   "execution_count": 74,
   "metadata": {},
   "outputs": [],
   "source": [
    "list1 = [834,23 ,234,65645,7766546433,\"price\"]"
   ]
  },
  {
   "cell_type": "code",
   "execution_count": 75,
   "metadata": {},
   "outputs": [],
   "source": [
    "set_list1 = set(list1)"
   ]
  },
  {
   "cell_type": "code",
   "execution_count": 76,
   "metadata": {},
   "outputs": [
    {
     "data": {
      "text/plain": [
       "{23, 234, 65645, 7766546433, 834, 'price'}"
      ]
     },
     "execution_count": 76,
     "metadata": {},
     "output_type": "execute_result"
    }
   ],
   "source": [
    "set_list1"
   ]
  },
  {
   "cell_type": "code",
   "execution_count": null,
   "metadata": {},
   "outputs": [],
   "source": []
  }
 ],
 "metadata": {
  "kernelspec": {
   "display_name": "Python 3",
   "language": "python",
   "name": "python3"
  },
  "language_info": {
   "codemirror_mode": {
    "name": "ipython",
    "version": 3
   },
   "file_extension": ".py",
   "mimetype": "text/x-python",
   "name": "python",
   "nbconvert_exporter": "python",
   "pygments_lexer": "ipython3",
   "version": "3.8.2"
  }
 },
 "nbformat": 4,
 "nbformat_minor": 4
}
